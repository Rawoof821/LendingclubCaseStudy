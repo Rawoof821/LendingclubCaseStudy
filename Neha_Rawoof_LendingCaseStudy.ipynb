{
 "cells": [
  {
   "cell_type": "code",
   "execution_count": 9,
   "id": "b29dcd86-5ef8-4b5d-842f-18205296d1d1",
   "metadata": {},
   "outputs": [],
   "source": [
    "# Importing necessary libraries\n",
    "import pandas as pd\n",
    "import numpy as np\n",
    "import matplotlib.pyplot as plt\n",
    "import seaborn as sns"
   ]
  },
  {
   "cell_type": "code",
   "execution_count": 40,
   "id": "b544813b-43b7-47b0-a957-15ac91b17d0f",
   "metadata": {},
   "outputs": [
    {
     "name": "stderr",
     "output_type": "stream",
     "text": [
      "C:\\Users\\rawoof\\AppData\\Local\\Temp\\ipykernel_25100\\3614355125.py:2: DtypeWarning: Columns (47) have mixed types. Specify dtype option on import or set low_memory=False.\n",
      "  loan_data = pd.read_csv('loan.csv');\n"
     ]
    },
    {
     "data": {
      "text/html": [
       "<div>\n",
       "<style scoped>\n",
       "    .dataframe tbody tr th:only-of-type {\n",
       "        vertical-align: middle;\n",
       "    }\n",
       "\n",
       "    .dataframe tbody tr th {\n",
       "        vertical-align: top;\n",
       "    }\n",
       "\n",
       "    .dataframe thead th {\n",
       "        text-align: right;\n",
       "    }\n",
       "</style>\n",
       "<table border=\"1\" class=\"dataframe\">\n",
       "  <thead>\n",
       "    <tr style=\"text-align: right;\">\n",
       "      <th></th>\n",
       "      <th>id</th>\n",
       "      <th>member_id</th>\n",
       "      <th>loan_amnt</th>\n",
       "      <th>funded_amnt</th>\n",
       "      <th>funded_amnt_inv</th>\n",
       "      <th>term</th>\n",
       "      <th>int_rate</th>\n",
       "      <th>installment</th>\n",
       "      <th>grade</th>\n",
       "      <th>sub_grade</th>\n",
       "      <th>...</th>\n",
       "      <th>num_tl_90g_dpd_24m</th>\n",
       "      <th>num_tl_op_past_12m</th>\n",
       "      <th>pct_tl_nvr_dlq</th>\n",
       "      <th>percent_bc_gt_75</th>\n",
       "      <th>pub_rec_bankruptcies</th>\n",
       "      <th>tax_liens</th>\n",
       "      <th>tot_hi_cred_lim</th>\n",
       "      <th>total_bal_ex_mort</th>\n",
       "      <th>total_bc_limit</th>\n",
       "      <th>total_il_high_credit_limit</th>\n",
       "    </tr>\n",
       "  </thead>\n",
       "  <tbody>\n",
       "    <tr>\n",
       "      <th>0</th>\n",
       "      <td>1077501</td>\n",
       "      <td>1296599</td>\n",
       "      <td>5000</td>\n",
       "      <td>5000</td>\n",
       "      <td>4975.0</td>\n",
       "      <td>36 months</td>\n",
       "      <td>10.65%</td>\n",
       "      <td>162.87</td>\n",
       "      <td>B</td>\n",
       "      <td>B2</td>\n",
       "      <td>...</td>\n",
       "      <td>NaN</td>\n",
       "      <td>NaN</td>\n",
       "      <td>NaN</td>\n",
       "      <td>NaN</td>\n",
       "      <td>0.0</td>\n",
       "      <td>0.0</td>\n",
       "      <td>NaN</td>\n",
       "      <td>NaN</td>\n",
       "      <td>NaN</td>\n",
       "      <td>NaN</td>\n",
       "    </tr>\n",
       "    <tr>\n",
       "      <th>1</th>\n",
       "      <td>1077430</td>\n",
       "      <td>1314167</td>\n",
       "      <td>2500</td>\n",
       "      <td>2500</td>\n",
       "      <td>2500.0</td>\n",
       "      <td>60 months</td>\n",
       "      <td>15.27%</td>\n",
       "      <td>59.83</td>\n",
       "      <td>C</td>\n",
       "      <td>C4</td>\n",
       "      <td>...</td>\n",
       "      <td>NaN</td>\n",
       "      <td>NaN</td>\n",
       "      <td>NaN</td>\n",
       "      <td>NaN</td>\n",
       "      <td>0.0</td>\n",
       "      <td>0.0</td>\n",
       "      <td>NaN</td>\n",
       "      <td>NaN</td>\n",
       "      <td>NaN</td>\n",
       "      <td>NaN</td>\n",
       "    </tr>\n",
       "    <tr>\n",
       "      <th>2</th>\n",
       "      <td>1077175</td>\n",
       "      <td>1313524</td>\n",
       "      <td>2400</td>\n",
       "      <td>2400</td>\n",
       "      <td>2400.0</td>\n",
       "      <td>36 months</td>\n",
       "      <td>15.96%</td>\n",
       "      <td>84.33</td>\n",
       "      <td>C</td>\n",
       "      <td>C5</td>\n",
       "      <td>...</td>\n",
       "      <td>NaN</td>\n",
       "      <td>NaN</td>\n",
       "      <td>NaN</td>\n",
       "      <td>NaN</td>\n",
       "      <td>0.0</td>\n",
       "      <td>0.0</td>\n",
       "      <td>NaN</td>\n",
       "      <td>NaN</td>\n",
       "      <td>NaN</td>\n",
       "      <td>NaN</td>\n",
       "    </tr>\n",
       "    <tr>\n",
       "      <th>3</th>\n",
       "      <td>1076863</td>\n",
       "      <td>1277178</td>\n",
       "      <td>10000</td>\n",
       "      <td>10000</td>\n",
       "      <td>10000.0</td>\n",
       "      <td>36 months</td>\n",
       "      <td>13.49%</td>\n",
       "      <td>339.31</td>\n",
       "      <td>C</td>\n",
       "      <td>C1</td>\n",
       "      <td>...</td>\n",
       "      <td>NaN</td>\n",
       "      <td>NaN</td>\n",
       "      <td>NaN</td>\n",
       "      <td>NaN</td>\n",
       "      <td>0.0</td>\n",
       "      <td>0.0</td>\n",
       "      <td>NaN</td>\n",
       "      <td>NaN</td>\n",
       "      <td>NaN</td>\n",
       "      <td>NaN</td>\n",
       "    </tr>\n",
       "    <tr>\n",
       "      <th>4</th>\n",
       "      <td>1075358</td>\n",
       "      <td>1311748</td>\n",
       "      <td>3000</td>\n",
       "      <td>3000</td>\n",
       "      <td>3000.0</td>\n",
       "      <td>60 months</td>\n",
       "      <td>12.69%</td>\n",
       "      <td>67.79</td>\n",
       "      <td>B</td>\n",
       "      <td>B5</td>\n",
       "      <td>...</td>\n",
       "      <td>NaN</td>\n",
       "      <td>NaN</td>\n",
       "      <td>NaN</td>\n",
       "      <td>NaN</td>\n",
       "      <td>0.0</td>\n",
       "      <td>0.0</td>\n",
       "      <td>NaN</td>\n",
       "      <td>NaN</td>\n",
       "      <td>NaN</td>\n",
       "      <td>NaN</td>\n",
       "    </tr>\n",
       "  </tbody>\n",
       "</table>\n",
       "<p>5 rows × 111 columns</p>\n",
       "</div>"
      ],
      "text/plain": [
       "        id  member_id  loan_amnt  funded_amnt  funded_amnt_inv        term  \\\n",
       "0  1077501    1296599       5000         5000           4975.0   36 months   \n",
       "1  1077430    1314167       2500         2500           2500.0   60 months   \n",
       "2  1077175    1313524       2400         2400           2400.0   36 months   \n",
       "3  1076863    1277178      10000        10000          10000.0   36 months   \n",
       "4  1075358    1311748       3000         3000           3000.0   60 months   \n",
       "\n",
       "  int_rate  installment grade sub_grade  ... num_tl_90g_dpd_24m  \\\n",
       "0   10.65%       162.87     B        B2  ...                NaN   \n",
       "1   15.27%        59.83     C        C4  ...                NaN   \n",
       "2   15.96%        84.33     C        C5  ...                NaN   \n",
       "3   13.49%       339.31     C        C1  ...                NaN   \n",
       "4   12.69%        67.79     B        B5  ...                NaN   \n",
       "\n",
       "  num_tl_op_past_12m pct_tl_nvr_dlq  percent_bc_gt_75 pub_rec_bankruptcies  \\\n",
       "0                NaN            NaN               NaN                  0.0   \n",
       "1                NaN            NaN               NaN                  0.0   \n",
       "2                NaN            NaN               NaN                  0.0   \n",
       "3                NaN            NaN               NaN                  0.0   \n",
       "4                NaN            NaN               NaN                  0.0   \n",
       "\n",
       "  tax_liens tot_hi_cred_lim total_bal_ex_mort total_bc_limit  \\\n",
       "0       0.0             NaN               NaN            NaN   \n",
       "1       0.0             NaN               NaN            NaN   \n",
       "2       0.0             NaN               NaN            NaN   \n",
       "3       0.0             NaN               NaN            NaN   \n",
       "4       0.0             NaN               NaN            NaN   \n",
       "\n",
       "  total_il_high_credit_limit  \n",
       "0                        NaN  \n",
       "1                        NaN  \n",
       "2                        NaN  \n",
       "3                        NaN  \n",
       "4                        NaN  \n",
       "\n",
       "[5 rows x 111 columns]"
      ]
     },
     "execution_count": 40,
     "metadata": {},
     "output_type": "execute_result"
    }
   ],
   "source": [
    "# Reading the loan data\n",
    "loan_data = pd.read_csv('loan.csv');\n",
    "loan_data.head()"
   ]
  },
  {
   "cell_type": "code",
   "execution_count": 41,
   "id": "5ae88e30-2435-4fe7-8a9f-7ca609ac967f",
   "metadata": {},
   "outputs": [
    {
     "data": {
      "text/html": [
       "<div>\n",
       "<style scoped>\n",
       "    .dataframe tbody tr th:only-of-type {\n",
       "        vertical-align: middle;\n",
       "    }\n",
       "\n",
       "    .dataframe tbody tr th {\n",
       "        vertical-align: top;\n",
       "    }\n",
       "\n",
       "    .dataframe thead th {\n",
       "        text-align: right;\n",
       "    }\n",
       "</style>\n",
       "<table border=\"1\" class=\"dataframe\">\n",
       "  <thead>\n",
       "    <tr style=\"text-align: right;\">\n",
       "      <th></th>\n",
       "      <th>id</th>\n",
       "      <th>member_id</th>\n",
       "      <th>loan_amnt</th>\n",
       "      <th>funded_amnt</th>\n",
       "      <th>funded_amnt_inv</th>\n",
       "      <th>term</th>\n",
       "      <th>int_rate</th>\n",
       "      <th>installment</th>\n",
       "      <th>grade</th>\n",
       "      <th>sub_grade</th>\n",
       "      <th>...</th>\n",
       "      <th>num_tl_90g_dpd_24m</th>\n",
       "      <th>num_tl_op_past_12m</th>\n",
       "      <th>pct_tl_nvr_dlq</th>\n",
       "      <th>percent_bc_gt_75</th>\n",
       "      <th>pub_rec_bankruptcies</th>\n",
       "      <th>tax_liens</th>\n",
       "      <th>tot_hi_cred_lim</th>\n",
       "      <th>total_bal_ex_mort</th>\n",
       "      <th>total_bc_limit</th>\n",
       "      <th>total_il_high_credit_limit</th>\n",
       "    </tr>\n",
       "  </thead>\n",
       "  <tbody>\n",
       "    <tr>\n",
       "      <th>0</th>\n",
       "      <td>1077501</td>\n",
       "      <td>1296599</td>\n",
       "      <td>5000</td>\n",
       "      <td>5000</td>\n",
       "      <td>4975.0</td>\n",
       "      <td>36 months</td>\n",
       "      <td>10.65%</td>\n",
       "      <td>162.87</td>\n",
       "      <td>B</td>\n",
       "      <td>B2</td>\n",
       "      <td>...</td>\n",
       "      <td>NaN</td>\n",
       "      <td>NaN</td>\n",
       "      <td>NaN</td>\n",
       "      <td>NaN</td>\n",
       "      <td>0.0</td>\n",
       "      <td>0.0</td>\n",
       "      <td>NaN</td>\n",
       "      <td>NaN</td>\n",
       "      <td>NaN</td>\n",
       "      <td>NaN</td>\n",
       "    </tr>\n",
       "    <tr>\n",
       "      <th>1</th>\n",
       "      <td>1077430</td>\n",
       "      <td>1314167</td>\n",
       "      <td>2500</td>\n",
       "      <td>2500</td>\n",
       "      <td>2500.0</td>\n",
       "      <td>60 months</td>\n",
       "      <td>15.27%</td>\n",
       "      <td>59.83</td>\n",
       "      <td>C</td>\n",
       "      <td>C4</td>\n",
       "      <td>...</td>\n",
       "      <td>NaN</td>\n",
       "      <td>NaN</td>\n",
       "      <td>NaN</td>\n",
       "      <td>NaN</td>\n",
       "      <td>0.0</td>\n",
       "      <td>0.0</td>\n",
       "      <td>NaN</td>\n",
       "      <td>NaN</td>\n",
       "      <td>NaN</td>\n",
       "      <td>NaN</td>\n",
       "    </tr>\n",
       "    <tr>\n",
       "      <th>2</th>\n",
       "      <td>1077175</td>\n",
       "      <td>1313524</td>\n",
       "      <td>2400</td>\n",
       "      <td>2400</td>\n",
       "      <td>2400.0</td>\n",
       "      <td>36 months</td>\n",
       "      <td>15.96%</td>\n",
       "      <td>84.33</td>\n",
       "      <td>C</td>\n",
       "      <td>C5</td>\n",
       "      <td>...</td>\n",
       "      <td>NaN</td>\n",
       "      <td>NaN</td>\n",
       "      <td>NaN</td>\n",
       "      <td>NaN</td>\n",
       "      <td>0.0</td>\n",
       "      <td>0.0</td>\n",
       "      <td>NaN</td>\n",
       "      <td>NaN</td>\n",
       "      <td>NaN</td>\n",
       "      <td>NaN</td>\n",
       "    </tr>\n",
       "    <tr>\n",
       "      <th>3</th>\n",
       "      <td>1076863</td>\n",
       "      <td>1277178</td>\n",
       "      <td>10000</td>\n",
       "      <td>10000</td>\n",
       "      <td>10000.0</td>\n",
       "      <td>36 months</td>\n",
       "      <td>13.49%</td>\n",
       "      <td>339.31</td>\n",
       "      <td>C</td>\n",
       "      <td>C1</td>\n",
       "      <td>...</td>\n",
       "      <td>NaN</td>\n",
       "      <td>NaN</td>\n",
       "      <td>NaN</td>\n",
       "      <td>NaN</td>\n",
       "      <td>0.0</td>\n",
       "      <td>0.0</td>\n",
       "      <td>NaN</td>\n",
       "      <td>NaN</td>\n",
       "      <td>NaN</td>\n",
       "      <td>NaN</td>\n",
       "    </tr>\n",
       "    <tr>\n",
       "      <th>4</th>\n",
       "      <td>1075358</td>\n",
       "      <td>1311748</td>\n",
       "      <td>3000</td>\n",
       "      <td>3000</td>\n",
       "      <td>3000.0</td>\n",
       "      <td>60 months</td>\n",
       "      <td>12.69%</td>\n",
       "      <td>67.79</td>\n",
       "      <td>B</td>\n",
       "      <td>B5</td>\n",
       "      <td>...</td>\n",
       "      <td>NaN</td>\n",
       "      <td>NaN</td>\n",
       "      <td>NaN</td>\n",
       "      <td>NaN</td>\n",
       "      <td>0.0</td>\n",
       "      <td>0.0</td>\n",
       "      <td>NaN</td>\n",
       "      <td>NaN</td>\n",
       "      <td>NaN</td>\n",
       "      <td>NaN</td>\n",
       "    </tr>\n",
       "  </tbody>\n",
       "</table>\n",
       "<p>5 rows × 111 columns</p>\n",
       "</div>"
      ],
      "text/plain": [
       "        id  member_id  loan_amnt  funded_amnt  funded_amnt_inv        term  \\\n",
       "0  1077501    1296599       5000         5000           4975.0   36 months   \n",
       "1  1077430    1314167       2500         2500           2500.0   60 months   \n",
       "2  1077175    1313524       2400         2400           2400.0   36 months   \n",
       "3  1076863    1277178      10000        10000          10000.0   36 months   \n",
       "4  1075358    1311748       3000         3000           3000.0   60 months   \n",
       "\n",
       "  int_rate  installment grade sub_grade  ... num_tl_90g_dpd_24m  \\\n",
       "0   10.65%       162.87     B        B2  ...                NaN   \n",
       "1   15.27%        59.83     C        C4  ...                NaN   \n",
       "2   15.96%        84.33     C        C5  ...                NaN   \n",
       "3   13.49%       339.31     C        C1  ...                NaN   \n",
       "4   12.69%        67.79     B        B5  ...                NaN   \n",
       "\n",
       "  num_tl_op_past_12m pct_tl_nvr_dlq  percent_bc_gt_75 pub_rec_bankruptcies  \\\n",
       "0                NaN            NaN               NaN                  0.0   \n",
       "1                NaN            NaN               NaN                  0.0   \n",
       "2                NaN            NaN               NaN                  0.0   \n",
       "3                NaN            NaN               NaN                  0.0   \n",
       "4                NaN            NaN               NaN                  0.0   \n",
       "\n",
       "  tax_liens tot_hi_cred_lim total_bal_ex_mort total_bc_limit  \\\n",
       "0       0.0             NaN               NaN            NaN   \n",
       "1       0.0             NaN               NaN            NaN   \n",
       "2       0.0             NaN               NaN            NaN   \n",
       "3       0.0             NaN               NaN            NaN   \n",
       "4       0.0             NaN               NaN            NaN   \n",
       "\n",
       "  total_il_high_credit_limit  \n",
       "0                        NaN  \n",
       "1                        NaN  \n",
       "2                        NaN  \n",
       "3                        NaN  \n",
       "4                        NaN  \n",
       "\n",
       "[5 rows x 111 columns]"
      ]
     },
     "execution_count": 41,
     "metadata": {},
     "output_type": "execute_result"
    }
   ],
   "source": [
    "# Using low_memory=False for above warning\n",
    "loan_data = pd.read_csv('loan.csv', low_memory=False);\n",
    "loan_data.head()"
   ]
  },
  {
   "cell_type": "code",
   "execution_count": 42,
   "id": "66dce274-4369-430f-8ad7-b866111e6acf",
   "metadata": {},
   "outputs": [
    {
     "data": {
      "text/plain": [
       "(39717, 111)"
      ]
     },
     "execution_count": 42,
     "metadata": {},
     "output_type": "execute_result"
    }
   ],
   "source": [
    "# Understanding the number of rows and columns\n",
    "loan_data.shape\n",
    "\n",
    "# Rows -- 39717 and Columns -- 111"
   ]
  },
  {
   "cell_type": "code",
   "execution_count": 43,
   "id": "7673114f-d7f3-487c-9809-26c379ea5efd",
   "metadata": {},
   "outputs": [
    {
     "data": {
      "text/plain": [
       "id                                0\n",
       "member_id                         0\n",
       "loan_amnt                         0\n",
       "funded_amnt                       0\n",
       "funded_amnt_inv                   0\n",
       "                              ...  \n",
       "tax_liens                        39\n",
       "tot_hi_cred_lim               39717\n",
       "total_bal_ex_mort             39717\n",
       "total_bc_limit                39717\n",
       "total_il_high_credit_limit    39717\n",
       "Length: 111, dtype: int64"
      ]
     },
     "execution_count": 43,
     "metadata": {},
     "output_type": "execute_result"
    }
   ],
   "source": [
    "# Missing value check\n",
    "loan_data.isna().sum()\n",
    "\n",
    "# Most of the columns have null value == total no. of rows . Meaning entire column is null"
   ]
  },
  {
   "cell_type": "code",
   "execution_count": 44,
   "id": "35e85ad8-7a72-4359-93f2-e4e00de4a836",
   "metadata": {},
   "outputs": [
    {
     "data": {
      "text/plain": [
       "id                              0.000000\n",
       "member_id                       0.000000\n",
       "loan_amnt                       0.000000\n",
       "funded_amnt                     0.000000\n",
       "funded_amnt_inv                 0.000000\n",
       "                                 ...    \n",
       "tax_liens                       0.098195\n",
       "tot_hi_cred_lim               100.000000\n",
       "total_bal_ex_mort             100.000000\n",
       "total_bc_limit                100.000000\n",
       "total_il_high_credit_limit    100.000000\n",
       "Length: 111, dtype: float64"
      ]
     },
     "execution_count": 44,
     "metadata": {},
     "output_type": "execute_result"
    }
   ],
   "source": [
    "# Percentage of data that is missing\n",
    "100*loan_data.isna().mean()"
   ]
  },
  {
   "cell_type": "code",
   "execution_count": 45,
   "id": "630feb88-faff-4b2c-a324-b1cf091db8f0",
   "metadata": {},
   "outputs": [
    {
     "data": {
      "text/plain": [
       "Index(['mths_since_last_delinq', 'mths_since_last_record', 'next_pymnt_d',\n",
       "       'mths_since_last_major_derog', 'annual_inc_joint', 'dti_joint',\n",
       "       'verification_status_joint', 'tot_coll_amt', 'tot_cur_bal',\n",
       "       'open_acc_6m', 'open_il_6m', 'open_il_12m', 'open_il_24m',\n",
       "       'mths_since_rcnt_il', 'total_bal_il', 'il_util', 'open_rv_12m',\n",
       "       'open_rv_24m', 'max_bal_bc', 'all_util', 'total_rev_hi_lim', 'inq_fi',\n",
       "       'total_cu_tl', 'inq_last_12m', 'acc_open_past_24mths', 'avg_cur_bal',\n",
       "       'bc_open_to_buy', 'bc_util', 'mo_sin_old_il_acct',\n",
       "       'mo_sin_old_rev_tl_op', 'mo_sin_rcnt_rev_tl_op', 'mo_sin_rcnt_tl',\n",
       "       'mort_acc', 'mths_since_recent_bc', 'mths_since_recent_bc_dlq',\n",
       "       'mths_since_recent_inq', 'mths_since_recent_revol_delinq',\n",
       "       'num_accts_ever_120_pd', 'num_actv_bc_tl', 'num_actv_rev_tl',\n",
       "       'num_bc_sats', 'num_bc_tl', 'num_il_tl', 'num_op_rev_tl',\n",
       "       'num_rev_accts', 'num_rev_tl_bal_gt_0', 'num_sats', 'num_tl_120dpd_2m',\n",
       "       'num_tl_30dpd', 'num_tl_90g_dpd_24m', 'num_tl_op_past_12m',\n",
       "       'pct_tl_nvr_dlq', 'percent_bc_gt_75', 'tot_hi_cred_lim',\n",
       "       'total_bal_ex_mort', 'total_bc_limit', 'total_il_high_credit_limit'],\n",
       "      dtype='object')"
      ]
     },
     "execution_count": 45,
     "metadata": {},
     "output_type": "execute_result"
    }
   ],
   "source": [
    "# Taking care of missing values\n",
    "# Any col with >40% of missing values should not be ideally considered as a part of the analysis\n",
    "\n",
    "missing_percentage = 100*loan_data.isna().mean()\n",
    "cols_to_drop = missing_percentage[missing_percentage > 40].index\n",
    "\n",
    "# List of columns having missing values more than 40%\n",
    "cols_to_drop"
   ]
  },
  {
   "cell_type": "code",
   "execution_count": 46,
   "id": "451dde0e-73b5-4d2d-a4f8-ad85d7b4cd4c",
   "metadata": {},
   "outputs": [
    {
     "data": {
      "text/plain": [
       "57"
      ]
     },
     "execution_count": 46,
     "metadata": {},
     "output_type": "execute_result"
    }
   ],
   "source": [
    "# Number of columns with missing values more than 40%\n",
    "cols_to_drop.size"
   ]
  },
  {
   "cell_type": "code",
   "execution_count": 47,
   "id": "0b5e1686-88f0-4194-8c92-157e2dd28097",
   "metadata": {},
   "outputs": [],
   "source": [
    "# Dropping these columns \n",
    "loan_data = loan_data.drop(columns=cols_to_drop)"
   ]
  },
  {
   "cell_type": "code",
   "execution_count": 48,
   "id": "915507ee-3e90-4b6a-bc06-bf871bea9722",
   "metadata": {},
   "outputs": [
    {
     "data": {
      "text/plain": [
       "(39717, 54)"
      ]
     },
     "execution_count": 48,
     "metadata": {},
     "output_type": "execute_result"
    }
   ],
   "source": [
    "loan_data.shape\n",
    "\n",
    "# After dropping the above columns , updated data has 39717 rows and 54 columns"
   ]
  },
  {
   "cell_type": "code",
   "execution_count": 49,
   "id": "3a7954c5-e70c-461f-9fc6-980efe67f690",
   "metadata": {},
   "outputs": [
    {
     "data": {
      "text/plain": [
       "id                                0\n",
       "member_id                         0\n",
       "loan_amnt                         0\n",
       "funded_amnt                       0\n",
       "funded_amnt_inv                   0\n",
       "term                              0\n",
       "int_rate                          0\n",
       "installment                       0\n",
       "grade                             0\n",
       "sub_grade                         0\n",
       "emp_title                      2459\n",
       "emp_length                     1075\n",
       "home_ownership                    0\n",
       "annual_inc                        0\n",
       "verification_status               0\n",
       "issue_d                           0\n",
       "loan_status                       0\n",
       "pymnt_plan                        0\n",
       "url                               0\n",
       "desc                          12942\n",
       "purpose                           0\n",
       "title                            11\n",
       "zip_code                          0\n",
       "addr_state                        0\n",
       "dti                               0\n",
       "delinq_2yrs                       0\n",
       "earliest_cr_line                  0\n",
       "inq_last_6mths                    0\n",
       "open_acc                          0\n",
       "pub_rec                           0\n",
       "revol_bal                         0\n",
       "revol_util                       50\n",
       "total_acc                         0\n",
       "initial_list_status               0\n",
       "out_prncp                         0\n",
       "out_prncp_inv                     0\n",
       "total_pymnt                       0\n",
       "total_pymnt_inv                   0\n",
       "total_rec_prncp                   0\n",
       "total_rec_int                     0\n",
       "total_rec_late_fee                0\n",
       "recoveries                        0\n",
       "collection_recovery_fee           0\n",
       "last_pymnt_d                     71\n",
       "last_pymnt_amnt                   0\n",
       "last_credit_pull_d                2\n",
       "collections_12_mths_ex_med       56\n",
       "policy_code                       0\n",
       "application_type                  0\n",
       "acc_now_delinq                    0\n",
       "chargeoff_within_12_mths         56\n",
       "delinq_amnt                       0\n",
       "pub_rec_bankruptcies            697\n",
       "tax_liens                        39\n",
       "dtype: int64"
      ]
     },
     "execution_count": 49,
     "metadata": {},
     "output_type": "execute_result"
    }
   ],
   "source": [
    "# Missing value check\n",
    "loan_data.isna().sum()"
   ]
  },
  {
   "cell_type": "code",
   "execution_count": 50,
   "id": "3f10c9f1-48da-4b46-8fa7-7664cd5d3187",
   "metadata": {},
   "outputs": [],
   "source": [
    "# Dropping more columns that is not needed\n",
    "loan_data = loan_data.drop(columns=['id','member_id','emp_title','url','desc','inq_last_6mths','pub_rec','pub_rec_bankruptcies'])"
   ]
  },
  {
   "cell_type": "code",
   "execution_count": 51,
   "id": "3257a989-2446-488d-9af5-fad81da10c7a",
   "metadata": {},
   "outputs": [
    {
     "data": {
      "text/plain": [
       "(39717, 46)"
      ]
     },
     "execution_count": 51,
     "metadata": {},
     "output_type": "execute_result"
    }
   ],
   "source": [
    "loan_data.shape"
   ]
  },
  {
   "cell_type": "code",
   "execution_count": 52,
   "id": "3f509aab-0c4b-48a0-ab13-09e692908b14",
   "metadata": {},
   "outputs": [
    {
     "data": {
      "text/plain": [
       "tax_liens\n",
       "0.0    39678\n",
       "Name: count, dtype: int64"
      ]
     },
     "execution_count": 52,
     "metadata": {},
     "output_type": "execute_result"
    }
   ],
   "source": [
    "# Check for tax_liens\n",
    "loan_data['tax_liens'].value_counts()"
   ]
  },
  {
   "cell_type": "code",
   "execution_count": 53,
   "id": "b2f2e1dc-3c0c-40ce-bbd4-93384ccac63e",
   "metadata": {},
   "outputs": [
    {
     "data": {
      "text/plain": [
       "(39717, 45)"
      ]
     },
     "execution_count": 53,
     "metadata": {},
     "output_type": "execute_result"
    }
   ],
   "source": [
    "# Dropping tax_liens column as 39678 values out of 39717 are 0.0 and rest are NaN\n",
    "loan_data = loan_data.drop(columns=['tax_liens'])\n",
    "loan_data.shape"
   ]
  },
  {
   "cell_type": "code",
   "execution_count": 54,
   "id": "f442e0a4-e20a-4fe2-b2ef-19b39a2a7125",
   "metadata": {},
   "outputs": [
    {
     "data": {
      "text/plain": [
       "title\n",
       "Debt Consolidation                  2184\n",
       "Debt Consolidation Loan             1729\n",
       "Personal Loan                        659\n",
       "Consolidation                        517\n",
       "debt consolidation                   505\n",
       "                                    ... \n",
       "your rate is better than my rate       1\n",
       "Concession Trailer                     1\n",
       "gregs                                  1\n",
       "EZover                                 1\n",
       "JAL Loan                               1\n",
       "Name: count, Length: 19615, dtype: int64"
      ]
     },
     "execution_count": 54,
     "metadata": {},
     "output_type": "execute_result"
    }
   ],
   "source": [
    "# Check for title and purpose columns\n",
    "loan_data['title'].value_counts()"
   ]
  },
  {
   "cell_type": "code",
   "execution_count": 55,
   "id": "43b6ef44-c36f-49a8-8ff9-07aacf81830d",
   "metadata": {},
   "outputs": [
    {
     "data": {
      "text/plain": [
       "purpose\n",
       "debt_consolidation    18641\n",
       "credit_card            5130\n",
       "other                  3993\n",
       "home_improvement       2976\n",
       "major_purchase         2187\n",
       "small_business         1828\n",
       "car                    1549\n",
       "wedding                 947\n",
       "medical                 693\n",
       "moving                  583\n",
       "vacation                381\n",
       "house                   381\n",
       "educational             325\n",
       "renewable_energy        103\n",
       "Name: count, dtype: int64"
      ]
     },
     "execution_count": 55,
     "metadata": {},
     "output_type": "execute_result"
    }
   ],
   "source": [
    "loan_data['purpose'].value_counts()"
   ]
  },
  {
   "cell_type": "code",
   "execution_count": 56,
   "id": "fb6639f8-6fdc-44a5-8378-2c8256324f21",
   "metadata": {},
   "outputs": [],
   "source": [
    "# 'purpose' column can give more meaningfull insight than the title hence dropping the title column\n",
    "loan_data = loan_data.drop(columns=['title'])"
   ]
  },
  {
   "cell_type": "code",
   "execution_count": 57,
   "id": "e185c24a-8c3b-44fc-8ea8-8af8fd725e34",
   "metadata": {},
   "outputs": [
    {
     "data": {
      "text/plain": [
       "loan_amnt                        0\n",
       "funded_amnt                      0\n",
       "funded_amnt_inv                  0\n",
       "term                             0\n",
       "int_rate                         0\n",
       "installment                      0\n",
       "grade                            0\n",
       "sub_grade                        0\n",
       "emp_length                    1075\n",
       "home_ownership                   0\n",
       "annual_inc                       0\n",
       "verification_status              0\n",
       "issue_d                          0\n",
       "loan_status                      0\n",
       "pymnt_plan                       0\n",
       "purpose                          0\n",
       "zip_code                         0\n",
       "addr_state                       0\n",
       "dti                              0\n",
       "delinq_2yrs                      0\n",
       "earliest_cr_line                 0\n",
       "open_acc                         0\n",
       "revol_bal                        0\n",
       "revol_util                      50\n",
       "total_acc                        0\n",
       "initial_list_status              0\n",
       "out_prncp                        0\n",
       "out_prncp_inv                    0\n",
       "total_pymnt                      0\n",
       "total_pymnt_inv                  0\n",
       "total_rec_prncp                  0\n",
       "total_rec_int                    0\n",
       "total_rec_late_fee               0\n",
       "recoveries                       0\n",
       "collection_recovery_fee          0\n",
       "last_pymnt_d                    71\n",
       "last_pymnt_amnt                  0\n",
       "last_credit_pull_d               2\n",
       "collections_12_mths_ex_med      56\n",
       "policy_code                      0\n",
       "application_type                 0\n",
       "acc_now_delinq                   0\n",
       "chargeoff_within_12_mths        56\n",
       "delinq_amnt                      0\n",
       "dtype: int64"
      ]
     },
     "execution_count": 57,
     "metadata": {},
     "output_type": "execute_result"
    }
   ],
   "source": [
    "# Columns left and their null count\n",
    "loan_data.isna().sum()"
   ]
  },
  {
   "cell_type": "code",
   "execution_count": 58,
   "id": "65da5b53-9db3-4d34-ba3e-8a7ddd705fa7",
   "metadata": {},
   "outputs": [
    {
     "data": {
      "text/plain": [
       "application_type\n",
       "INDIVIDUAL    39717\n",
       "Name: count, dtype: int64"
      ]
     },
     "execution_count": 58,
     "metadata": {},
     "output_type": "execute_result"
    }
   ],
   "source": [
    "# 'application_type' has only value, hence dropping the col\n",
    "loan_data['application_type'].value_counts()"
   ]
  },
  {
   "cell_type": "code",
   "execution_count": 59,
   "id": "34875592-1136-47d7-81d9-395b56947920",
   "metadata": {},
   "outputs": [
    {
     "data": {
      "text/plain": [
       "policy_code\n",
       "1    39717\n",
       "Name: count, dtype: int64"
      ]
     },
     "execution_count": 59,
     "metadata": {},
     "output_type": "execute_result"
    }
   ],
   "source": [
    "# 'policy_code' code too has only value, hence dropping the col\n",
    "loan_data['policy_code'].value_counts()"
   ]
  },
  {
   "cell_type": "code",
   "execution_count": 60,
   "id": "244fca00-807a-45ee-9543-ba323de7087b",
   "metadata": {},
   "outputs": [
    {
     "data": {
      "text/plain": [
       "collections_12_mths_ex_med\n",
       "0.0    39661\n",
       "Name: count, dtype: int64"
      ]
     },
     "execution_count": 60,
     "metadata": {},
     "output_type": "execute_result"
    }
   ],
   "source": [
    "# 'collections_12_mths_ex_med' has only one value 0.0 , hence this col wont be useful\n",
    "loan_data['collections_12_mths_ex_med'].value_counts()"
   ]
  },
  {
   "cell_type": "code",
   "execution_count": 61,
   "id": "9ece975a-9c69-4dfa-92c2-a9860945b5e9",
   "metadata": {},
   "outputs": [],
   "source": [
    "# Dropping more columns that wont be of any use \n",
    "loan_data = loan_data.drop(columns=['emp_length','pymnt_plan','zip_code','last_credit_pull_d','out_prncp','initial_list_status','acc_now_delinq','chargeoff_within_12_mths','delinq_amnt','application_type','policy_code','collections_12_mths_ex_med','last_credit_pull_d'])"
   ]
  },
  {
   "cell_type": "code",
   "execution_count": 62,
   "id": "073c0f93-5d2b-4a8b-98be-a6e35f8dc352",
   "metadata": {},
   "outputs": [
    {
     "data": {
      "text/plain": [
       "(39717, 32)"
      ]
     },
     "execution_count": 62,
     "metadata": {},
     "output_type": "execute_result"
    }
   ],
   "source": [
    "loan_data.shape"
   ]
  },
  {
   "cell_type": "code",
   "execution_count": 63,
   "id": "2cbbe51f-de02-4fc2-b6b2-4dbdc32cc421",
   "metadata": {},
   "outputs": [
    {
     "data": {
      "text/plain": [
       "loan_amnt                   0\n",
       "funded_amnt                 0\n",
       "funded_amnt_inv             0\n",
       "term                        0\n",
       "int_rate                    0\n",
       "installment                 0\n",
       "grade                       0\n",
       "sub_grade                   0\n",
       "home_ownership              0\n",
       "annual_inc                  0\n",
       "verification_status         0\n",
       "issue_d                     0\n",
       "loan_status                 0\n",
       "purpose                     0\n",
       "addr_state                  0\n",
       "dti                         0\n",
       "delinq_2yrs                 0\n",
       "earliest_cr_line            0\n",
       "open_acc                    0\n",
       "revol_bal                   0\n",
       "revol_util                 50\n",
       "total_acc                   0\n",
       "out_prncp_inv               0\n",
       "total_pymnt                 0\n",
       "total_pymnt_inv             0\n",
       "total_rec_prncp             0\n",
       "total_rec_int               0\n",
       "total_rec_late_fee          0\n",
       "recoveries                  0\n",
       "collection_recovery_fee     0\n",
       "last_pymnt_d               71\n",
       "last_pymnt_amnt             0\n",
       "dtype: int64"
      ]
     },
     "execution_count": 63,
     "metadata": {},
     "output_type": "execute_result"
    }
   ],
   "source": [
    "# Columns left and their null count\n",
    "loan_data.isna().sum()"
   ]
  },
  {
   "cell_type": "code",
   "execution_count": 64,
   "id": "1c0e6534-cfb9-4e49-b95b-f03f5cfab737",
   "metadata": {},
   "outputs": [],
   "source": [
    "# Dropping more columns that wont be of any use \n",
    "loan_data = loan_data.drop(columns=['recoveries','collection_recovery_fee'])"
   ]
  },
  {
   "cell_type": "code",
   "execution_count": 65,
   "id": "d0ec5fe3-4f7d-4ef6-9405-36c357299499",
   "metadata": {},
   "outputs": [
    {
     "data": {
      "text/plain": [
       "(39717, 30)"
      ]
     },
     "execution_count": 65,
     "metadata": {},
     "output_type": "execute_result"
    }
   ],
   "source": [
    "loan_data.shape"
   ]
  },
  {
   "cell_type": "code",
   "execution_count": 66,
   "id": "b5a3cf83-d7f6-4306-8551-ab6a65b9fee0",
   "metadata": {},
   "outputs": [
    {
     "data": {
      "text/plain": [
       "loan_amnt               0\n",
       "funded_amnt             0\n",
       "funded_amnt_inv         0\n",
       "term                    0\n",
       "int_rate                0\n",
       "installment             0\n",
       "grade                   0\n",
       "sub_grade               0\n",
       "home_ownership          0\n",
       "annual_inc              0\n",
       "verification_status     0\n",
       "issue_d                 0\n",
       "loan_status             0\n",
       "purpose                 0\n",
       "addr_state              0\n",
       "dti                     0\n",
       "delinq_2yrs             0\n",
       "earliest_cr_line        0\n",
       "open_acc                0\n",
       "revol_bal               0\n",
       "revol_util             50\n",
       "total_acc               0\n",
       "out_prncp_inv           0\n",
       "total_pymnt             0\n",
       "total_pymnt_inv         0\n",
       "total_rec_prncp         0\n",
       "total_rec_int           0\n",
       "total_rec_late_fee      0\n",
       "last_pymnt_d           71\n",
       "last_pymnt_amnt         0\n",
       "dtype: int64"
      ]
     },
     "execution_count": 66,
     "metadata": {},
     "output_type": "execute_result"
    }
   ],
   "source": [
    "# Columns left and their null count\n",
    "loan_data.isna().sum()"
   ]
  },
  {
   "cell_type": "code",
   "execution_count": 68,
   "id": "dc5c8ff8-f21c-476c-abc5-eb801e1b7978",
   "metadata": {},
   "outputs": [
    {
     "data": {
      "text/plain": [
       "revol_util\n",
       "0%        977\n",
       "0.20%      63\n",
       "63%        62\n",
       "40.70%     58\n",
       "66.70%     58\n",
       "         ... \n",
       "25.74%      1\n",
       "47.36%      1\n",
       "24.65%      1\n",
       "10.61%      1\n",
       "7.28%       1\n",
       "Name: count, Length: 1089, dtype: int64"
      ]
     },
     "execution_count": 68,
     "metadata": {},
     "output_type": "execute_result"
    }
   ],
   "source": [
    "# ---------------------------------Handling of missing values-------------------------------------\n",
    "# For 'revol_util' column\n",
    "\n",
    "loan_data['revol_util'].value_counts()"
   ]
  },
  {
   "cell_type": "code",
   "execution_count": 69,
   "id": "f2b0c6a2-47b0-46d4-826f-6ce26faf2cb1",
   "metadata": {},
   "outputs": [],
   "source": [
    "# Correcting the type of data as it has '%''\n",
    "loan_data['revol_util'] = loan_data['revol_util'].str.rstrip('%').astype('float')/100"
   ]
  },
  {
   "cell_type": "code",
   "execution_count": 70,
   "id": "4f840f82-2dfb-4d47-8b6d-037d608fa40c",
   "metadata": {},
   "outputs": [
    {
     "data": {
      "text/plain": [
       "revol_util\n",
       "0.0000    977\n",
       "0.0020     63\n",
       "0.6300     62\n",
       "0.4070     58\n",
       "0.6670     58\n",
       "         ... \n",
       "0.2574      1\n",
       "0.4736      1\n",
       "0.2465      1\n",
       "0.1061      1\n",
       "0.0728      1\n",
       "Name: count, Length: 1089, dtype: int64"
      ]
     },
     "execution_count": 70,
     "metadata": {},
     "output_type": "execute_result"
    }
   ],
   "source": [
    "loan_data['revol_util'].value_counts()"
   ]
  },
  {
   "cell_type": "code",
   "execution_count": 71,
   "id": "b4538d0a-a4ae-4473-bbbf-7b59325822b6",
   "metadata": {},
   "outputs": [
    {
     "data": {
      "text/plain": [
       "count    39667.000000\n",
       "mean         0.488322\n",
       "std          0.283326\n",
       "min          0.000000\n",
       "25%          0.254000\n",
       "50%          0.493000\n",
       "75%          0.724000\n",
       "max          0.999000\n",
       "Name: revol_util, dtype: float64"
      ]
     },
     "execution_count": 71,
     "metadata": {},
     "output_type": "execute_result"
    }
   ],
   "source": [
    "# Getting the statistical info about the column\n",
    "loan_data['revol_util'].describe()"
   ]
  },
  {
   "cell_type": "code",
   "execution_count": 72,
   "id": "9abc43cc-ca2a-49d2-9c88-e81ca18093e9",
   "metadata": {},
   "outputs": [],
   "source": [
    "# Imputing the missing values with the mean\n",
    "loan_data['revol_util'] = loan_data['revol_util'].fillna(loan_data['revol_util'].mean())"
   ]
  },
  {
   "cell_type": "code",
   "execution_count": 73,
   "id": "f144c678-f757-4c87-9893-c906857791ca",
   "metadata": {},
   "outputs": [
    {
     "data": {
      "text/plain": [
       "0"
      ]
     },
     "execution_count": 73,
     "metadata": {},
     "output_type": "execute_result"
    }
   ],
   "source": [
    "# Checking the null value count\n",
    "loan_data['revol_util'].isna().sum()"
   ]
  },
  {
   "cell_type": "code",
   "execution_count": 74,
   "id": "bc437d46-0c68-4cd8-b428-e2a9657cd1a8",
   "metadata": {},
   "outputs": [],
   "source": [
    "# Now , dropping the 'last_pymnt_d' column\n",
    "loan_data = loan_data.drop(columns='last_pymnt_d')"
   ]
  },
  {
   "cell_type": "code",
   "execution_count": 75,
   "id": "b490c6be-6dcf-490f-9127-5d60874a5636",
   "metadata": {},
   "outputs": [
    {
     "data": {
      "text/plain": [
       "loan_amnt              0\n",
       "funded_amnt            0\n",
       "funded_amnt_inv        0\n",
       "term                   0\n",
       "int_rate               0\n",
       "installment            0\n",
       "grade                  0\n",
       "sub_grade              0\n",
       "home_ownership         0\n",
       "annual_inc             0\n",
       "verification_status    0\n",
       "issue_d                0\n",
       "loan_status            0\n",
       "purpose                0\n",
       "addr_state             0\n",
       "dti                    0\n",
       "delinq_2yrs            0\n",
       "earliest_cr_line       0\n",
       "open_acc               0\n",
       "revol_bal              0\n",
       "revol_util             0\n",
       "total_acc              0\n",
       "out_prncp_inv          0\n",
       "total_pymnt            0\n",
       "total_pymnt_inv        0\n",
       "total_rec_prncp        0\n",
       "total_rec_int          0\n",
       "total_rec_late_fee     0\n",
       "last_pymnt_amnt        0\n",
       "dtype: int64"
      ]
     },
     "execution_count": 75,
     "metadata": {},
     "output_type": "execute_result"
    }
   ],
   "source": [
    "loan_data.isna().sum()\n"
   ]
  },
  {
   "cell_type": "code",
   "execution_count": 76,
   "id": "2c8648f0-0ead-44ea-9b63-ca734021b2bb",
   "metadata": {},
   "outputs": [
    {
     "data": {
      "text/plain": [
       "grade\n",
       "B    12020\n",
       "A    10085\n",
       "C     8098\n",
       "D     5307\n",
       "E     2842\n",
       "F     1049\n",
       "G      316\n",
       "Name: count, dtype: int64"
      ]
     },
     "execution_count": 76,
     "metadata": {},
     "output_type": "execute_result"
    }
   ],
   "source": [
    "# -------------Checking data for categorical variables--------------\n",
    "# For 'grade' column\n",
    "loan_data['grade'].value_counts()"
   ]
  },
  {
   "cell_type": "code",
   "execution_count": 77,
   "id": "1c69f9c2-0a62-4685-86a9-1f36ea811789",
   "metadata": {},
   "outputs": [
    {
     "data": {
      "text/plain": [
       "sub_grade\n",
       "B3    2917\n",
       "A4    2886\n",
       "A5    2742\n",
       "B5    2704\n",
       "B4    2512\n",
       "C1    2136\n",
       "B2    2057\n",
       "C2    2011\n",
       "B1    1830\n",
       "A3    1810\n",
       "C3    1529\n",
       "A2    1508\n",
       "D2    1348\n",
       "C4    1236\n",
       "C5    1186\n",
       "D3    1173\n",
       "A1    1139\n",
       "D4     981\n",
       "D1     931\n",
       "D5     874\n",
       "E1     763\n",
       "E2     656\n",
       "E3     553\n",
       "E4     454\n",
       "E5     416\n",
       "F1     329\n",
       "F2     249\n",
       "F3     185\n",
       "F4     168\n",
       "F5     118\n",
       "G1     104\n",
       "G2      78\n",
       "G4      56\n",
       "G3      48\n",
       "G5      30\n",
       "Name: count, dtype: int64"
      ]
     },
     "execution_count": 77,
     "metadata": {},
     "output_type": "execute_result"
    }
   ],
   "source": [
    "# For 'sub_grade' column\n",
    "loan_data['sub_grade'].value_counts()"
   ]
  },
  {
   "cell_type": "code",
   "execution_count": 78,
   "id": "36b0eb0f-f034-44be-affb-91792edc4762",
   "metadata": {},
   "outputs": [
    {
     "data": {
      "image/png": "[encoded data removed]",
      "text/plain": [
       "<Figure size 1500x600 with 2 Axes>"
      ]
     },
     "metadata": {},
     "output_type": "display_data"
    }
   ],
   "source": [
    "# Plotting graph by grade and sub_grades\n",
    "plt.figure(figsize=(15,6))\n",
    "\n",
    "plt.subplot(1,2,1)\n",
    "sns.countplot( x=\"grade\", data=loan_data,order = np.sort(loan_data['grade'].unique()))\n",
    "plt.title(\"Distribution of Loans by Grade\")\n",
    "plt.xlabel(\"Grade\")\n",
    "plt.ylabel(\"Number of Loans issued\")\n",
    "\n",
    "plt.subplot(1,2,2)\n",
    "sns.countplot( x=\"sub_grade\", data=loan_data, order = np.sort(loan_data['sub_grade'].unique()))\n",
    "plt.title(\"Distribution of Loans by Sub Grade\")\n",
    "plt.xlabel(\"Sub Grade\")\n",
    "plt.ylabel(\"Number of Loans issued\")\n",
    "\n",
    "# To rotate axis text\n",
    "plt.xticks(rotation=90)\n",
    "plt.show()"
   ]
  },
  {
   "cell_type": "code",
   "execution_count": 117,
   "id": "e0c79c74-6ac0-42c9-b555-aa442a8ff1c7",
   "metadata": {},
   "outputs": [],
   "source": [
    "# Conclusion from above graphs\n",
    "# 1. More loans are disbursed to people with grades A and B and least number of loans were given to grades F and G\n",
    "# 2. From grades A and B , precisely the sub-grades A4 , B3 , A5 and B5 were disbursed with more loans."
   ]
  },
  {
   "cell_type": "code",
   "execution_count": 79,
   "id": "2be80c54-ce32-46f4-bc48-b712a891259f",
   "metadata": {},
   "outputs": [
    {
     "data": {
      "text/plain": [
       "home_ownership\n",
       "RENT        18899\n",
       "MORTGAGE    17659\n",
       "OWN          3058\n",
       "OTHER          98\n",
       "NONE            3\n",
       "Name: count, dtype: int64"
      ]
     },
     "execution_count": 79,
     "metadata": {},
     "output_type": "execute_result"
    }
   ],
   "source": [
    "# For 'home_ownership' column\n",
    "loan_data['home_ownership'].value_counts()"
   ]
  },
  {
   "cell_type": "code",
   "execution_count": 80,
   "id": "5cd1ac17-5fca-4978-bd8d-04ff2f267f62",
   "metadata": {},
   "outputs": [],
   "source": [
    "# Since 'home_ownership' cannot be NONE , hence replacing the 3 entries for NONE with RENT since it is the mode\n",
    "loan_data['home_ownership'] = loan_data['home_ownership'].replace('NONE','RENT')"
   ]
  },
  {
   "cell_type": "code",
   "execution_count": 81,
   "id": "e9172fff-d6fe-4747-b92d-0f5186dd6752",
   "metadata": {},
   "outputs": [
    {
     "data": {
      "text/plain": [
       "home_ownership\n",
       "RENT        18902\n",
       "MORTGAGE    17659\n",
       "OWN          3058\n",
       "OTHER          98\n",
       "Name: count, dtype: int64"
      ]
     },
     "execution_count": 81,
     "metadata": {},
     "output_type": "execute_result"
    }
   ],
   "source": [
    "loan_data['home_ownership'].value_counts()"
   ]
  },
  {
   "cell_type": "code",
   "execution_count": 82,
   "id": "e5116b36-f286-4ca6-9182-1f1bba22123b",
   "metadata": {},
   "outputs": [
    {
     "data": {
      "image/png": "[encoded data removed]",
      "text/plain": [
       "<Figure size 1500x600 with 2 Axes>"
      ]
     },
     "metadata": {},
     "output_type": "display_data"
    }
   ],
   "source": [
    "# Plotting the graph by 'home_ownership' and 'purpose'\n",
    "plt.figure(figsize=(15,6))\n",
    "\n",
    "plt.subplot(1,2,1)\n",
    "sns.countplot( x=\"home_ownership\", data=loan_data)\n",
    "plt.title(\"Distribution of Loans by Home Ownership\")\n",
    "plt.xlabel(\"Home Ownership\")\n",
    "plt.ylabel(\"Number of Loans issued\")\n",
    "\n",
    "plt.subplot(1,2,2)\n",
    "sns.countplot( x=\"purpose\", data=loan_data)\n",
    "plt.title(\"Distribution of Loans by Purpose\")\n",
    "plt.xlabel(\"Purpose of Loan\")\n",
    "plt.ylabel(\"Number of Loans issued\")\n",
    "\n",
    "# To rotate axis text\n",
    "plt.xticks(rotation=90)\n",
    "plt.show()"
   ]
  },
  {
   "cell_type": "code",
   "execution_count": 131,
   "id": "73514a83-6fb9-4d08-8c51-6294d5c499fc",
   "metadata": {},
   "outputs": [],
   "source": [
    "# Conclusion from above graphs\n",
    "# 1. More loans are disbursed to/taken by people staying on rent or mortgage.\n",
    "# 2. This can be due to people taking house loans , educational loans , car loans or personal loans.\n",
    "# 3. Main purpose of loan is debt consolidation and paying credit cards bills"
   ]
  },
  {
   "cell_type": "code",
   "execution_count": 83,
   "id": "ee073604-b6d5-4a74-916b-9d22083c4fe1",
   "metadata": {},
   "outputs": [
    {
     "data": {
      "text/plain": [
       "verification_status\n",
       "Not Verified       16921\n",
       "Verified           12809\n",
       "Source Verified     9987\n",
       "Name: count, dtype: int64"
      ]
     },
     "execution_count": 83,
     "metadata": {},
     "output_type": "execute_result"
    }
   ],
   "source": [
    "# For 'verification_status' column\n",
    "loan_data['verification_status'].value_counts()"
   ]
  },
  {
   "cell_type": "code",
   "execution_count": 84,
   "id": "daf7014c-8ef5-4f98-963c-0b11cc6fc30e",
   "metadata": {},
   "outputs": [
    {
     "data": {
      "text/plain": [
       "loan_status\n",
       "Fully Paid     32950\n",
       "Charged Off     5627\n",
       "Current         1140\n",
       "Name: count, dtype: int64"
      ]
     },
     "execution_count": 84,
     "metadata": {},
     "output_type": "execute_result"
    }
   ],
   "source": [
    "# For 'loan_status' column\n",
    "loan_data['loan_status'].value_counts()"
   ]
  },
  {
   "cell_type": "code",
   "execution_count": 85,
   "id": "2b0d8cd5-f58b-4228-8847-53c04c7379b5",
   "metadata": {},
   "outputs": [],
   "source": [
    "# Removing the data with loan status as 'Current'\n",
    "loan_data = loan_data[loan_data['loan_status']!='Current']"
   ]
  },
  {
   "cell_type": "code",
   "execution_count": 86,
   "id": "e7e49776-b8c8-47d0-bc95-b9b5e36ce5c8",
   "metadata": {},
   "outputs": [
    {
     "data": {
      "text/plain": [
       "(38577, 29)"
      ]
     },
     "execution_count": 86,
     "metadata": {},
     "output_type": "execute_result"
    }
   ],
   "source": [
    "loan_data.shape"
   ]
  },
  {
   "cell_type": "code",
   "execution_count": 87,
   "id": "0849e94c-a851-43c2-b842-69f1f84be567",
   "metadata": {},
   "outputs": [
    {
     "data": {
      "image/png": "[encoded data removed]",
      "text/plain": [
       "<Figure size 1500x600 with 2 Axes>"
      ]
     },
     "metadata": {},
     "output_type": "display_data"
    }
   ],
   "source": [
    "# Plotting the graph by 'verification_status' and 'loan_status'\n",
    "plt.figure(figsize=(15,6))\n",
    "\n",
    "plt.subplot(1,2,1)\n",
    "sns.countplot( x=\"verification_status\", data=loan_data)\n",
    "plt.title(\"Distribution of loan by types of verification\")\n",
    "plt.xlabel(\"Verification Status\")\n",
    "plt.ylabel(\"Number of Loans issued\")\n",
    "\n",
    "plt.subplot(1,2,2)\n",
    "sns.countplot( x=\"loan_status\", data=loan_data)\n",
    "plt.title(\"Distribution by Loan Status\")\n",
    "plt.xlabel(\"Loan Status\")\n",
    "plt.ylabel(\"Number of Loans issued\")\n",
    "\n",
    "# To rotate axis text\n",
    "plt.show()"
   ]
  },
  {
   "cell_type": "code",
   "execution_count": 88,
   "id": "cf30ab2e-96c9-4816-9497-0866ff1588cd",
   "metadata": {},
   "outputs": [
    {
     "data": {
      "image/png": "[encoded data removed]",
      "text/plain": [
       "<Figure size 1000x600 with 2 Axes>"
      ]
     },
     "metadata": {},
     "output_type": "display_data"
    }
   ],
   "source": [
    "# Visualizing the relationship between two categorical variables (verification_status and loan_status) together\n",
    "ct = pd.crosstab(loan_data['verification_status'], loan_data['loan_status'])\n",
    "\n",
    "plt.figure(figsize=(10, 6))\n",
    "sns.heatmap(ct, annot=True, fmt='d', cmap='Blues')\n",
    "plt.title('Loan Status by Verification Status')\n",
    "plt.xlabel('Loan Status')\n",
    "plt.ylabel('Verification Status')\n",
    "plt.show()"
   ]
  },
  {
   "cell_type": "code",
   "execution_count": 147,
   "id": "97f6f8f7-dfbc-446e-9704-b99a20fd345d",
   "metadata": {},
   "outputs": [],
   "source": [
    "# Conclusion from above graphs\n",
    "# 1. Most of the loans were disburded to people whoes proper verification was not conducted.\n",
    "# 2. Most of the loans are paid off , there are very few around 5000 which were charged off.\n",
    "# 3. However , most of the non-verified loans are paid off hence the nature of loan re-payment is not dependent upon the verification status."
   ]
  },
  {
   "cell_type": "code",
   "execution_count": 89,
   "id": "c6cc60d7-7db8-4c34-97a0-c8085f408d9b",
   "metadata": {},
   "outputs": [],
   "source": [
    "# -------------------------Creating derived columns-----------------------\n",
    "# Creating month and year columns using 'issue_d' column\n",
    "loan_data['issue_d'] = pd.to_datetime(loan_data['issue_d'], format='%b-%y')\n",
    "loan_data['issued_month'] = loan_data['issue_d'].dt.month\n",
    "loan_data['issued_year'] = loan_data['issue_d'].dt.year"
   ]
  },
  {
   "cell_type": "code",
   "execution_count": 90,
   "id": "f06b4d67-ba5f-4b4b-a144-a1aed5ffa18d",
   "metadata": {},
   "outputs": [
    {
     "data": {
      "text/plain": [
       "issued_month\n",
       "12    4215\n",
       "11    4006\n",
       "10    3761\n",
       "9     3498\n",
       "8     3388\n",
       "7     3351\n",
       "6     3180\n",
       "5     2919\n",
       "4     2831\n",
       "3     2691\n",
       "1     2379\n",
       "2     2358\n",
       "Name: count, dtype: int64"
      ]
     },
     "execution_count": 90,
     "metadata": {},
     "output_type": "execute_result"
    }
   ],
   "source": [
    "loan_data['issued_month'].value_counts()"
   ]
  },
  {
   "cell_type": "code",
   "execution_count": 99,
   "id": "ea330297-9bc0-4098-9419-58ae490752fc",
   "metadata": {},
   "outputs": [
    {
     "data": {
      "text/plain": [
       "issued_year\n",
       "2011    20516\n",
       "2010    11532\n",
       "2009     4716\n",
       "2008     1562\n",
       "2007      251\n",
       "Name: count, dtype: int64"
      ]
     },
     "execution_count": 99,
     "metadata": {},
     "output_type": "execute_result"
    }
   ],
   "source": [
    "loan_data['issued_year'].value_counts()"
   ]
  },
  {
   "cell_type": "code",
   "execution_count": 91,
   "id": "6ad40e6f-1b4d-44a6-b03d-6cb4ee536234",
   "metadata": {},
   "outputs": [],
   "source": [
    "# Dropping 'issue_d' as not required \n",
    "loan_data = loan_data.drop(columns=['issue_d'])"
   ]
  },
  {
   "cell_type": "code",
   "execution_count": 92,
   "id": "cb25b4f0-2f09-4ef3-ba97-4057ba8436d3",
   "metadata": {},
   "outputs": [
    {
     "data": {
      "image/png": "[encoded data removed]",
      "text/plain": [
       "<Figure size 1500x600 with 5 Axes>"
      ]
     },
     "metadata": {},
     "output_type": "display_data"
    }
   ],
   "source": [
    "# Plotting the graph for number of loans issued on every month of each year\n",
    "plt.figure(figsize=(15,6))\n",
    "\n",
    "plt.subplot(2,3,1)\n",
    "sns.countplot(x=\"issued_month\", data=loan_data[loan_data['issued_year']==2007])\n",
    "plt.title(\"Loans by month of 2007 Year\")\n",
    "plt.xlabel(\"Month\")\n",
    "plt.ylabel(\"Number of Loans issued\")\n",
    "\n",
    "plt.subplot(2,3,2)\n",
    "sns.countplot( x=\"issued_month\", data=loan_data[loan_data['issued_year']==2008])\n",
    "plt.title(\"Loans by month of 2008 Year\")\n",
    "plt.xlabel(\"Month\")\n",
    "plt.ylabel(\"Number of Loans issued\")\n",
    "\n",
    "plt.subplot(2,3,3)\n",
    "sns.countplot( x=\"issued_month\", data=loan_data[loan_data['issued_year']==2009])\n",
    "plt.title(\"Loans by month of 2009 Year\")\n",
    "plt.xlabel(\"Month\")\n",
    "plt.ylabel(\"Number of Loans issued\")\n",
    "\n",
    "plt.subplot(2,3,4)\n",
    "sns.countplot( x=\"issued_month\", data=loan_data[loan_data['issued_year']==2010])\n",
    "plt.title(\"Loans by month of 2010 Year\")\n",
    "plt.xlabel(\"Month\")\n",
    "plt.ylabel(\"Number of Loans issued\")\n",
    "\n",
    "plt.subplot(2,3,5)\n",
    "sns.countplot( x=\"issued_month\", data=loan_data[loan_data['issued_year']==2011])\n",
    "plt.title(\"Loans by month of 2011 Year\")\n",
    "plt.xlabel(\"Month\")\n",
    "plt.ylabel(\"Number of Loans issued\")\n",
    "\n",
    "plt.tight_layout()\n",
    "plt.show()"
   ]
  },
  {
   "cell_type": "code",
   "execution_count": 160,
   "id": "5a180abe-0445-49f9-a109-f7dfe9406f22",
   "metadata": {},
   "outputs": [],
   "source": [
    "# Conclusion from above graphs\n",
    "# 1. Most of the loans were disbursed at the end of year in the months of October,November and December that is in the holiday season.\n",
    "# 2. Number of loans disbursed have been increasing from 2007 to 2011 with slight drop in 2008."
   ]
  },
  {
   "cell_type": "code",
   "execution_count": 95,
   "id": "7bd96724-4faa-4ca3-9956-b9b89a5957b2",
   "metadata": {},
   "outputs": [],
   "source": [
    "\"\"\"valid_loan_data_for_analysis\"\"\"\n",
    "v_loan_data = loan_data"
   ]
  },
  {
   "cell_type": "code",
   "execution_count": 97,
   "id": "f19b73b6-4aaf-4998-9f6b-5702d3e1098d",
   "metadata": {},
   "outputs": [],
   "source": [
    "loans_paid_data = v_loan_data[v_loan_data['loan_status'] == \"Fully Paid\"]"
   ]
  },
  {
   "cell_type": "code",
   "execution_count": 98,
   "id": "aaf551e9-e87f-472b-88bc-7da6faaecb43",
   "metadata": {},
   "outputs": [],
   "source": [
    "loans_defaulted_data = v_loan_data[v_loan_data['loan_status'] != \"Fully Paid\"]"
   ]
  },
  {
   "cell_type": "code",
   "execution_count": 99,
   "id": "8aea9af9-db3d-443f-aae4-993da91dc858",
   "metadata": {},
   "outputs": [
    {
     "data": {
      "text/plain": [
       "(5627, 30)"
      ]
     },
     "execution_count": 99,
     "metadata": {},
     "output_type": "execute_result"
    }
   ],
   "source": [
    "loans_defaulted_data.shape"
   ]
  },
  {
   "cell_type": "code",
   "execution_count": 100,
   "id": "889a6613-afbd-45f0-904e-945261be2e7e",
   "metadata": {},
   "outputs": [
    {
     "data": {
      "text/plain": [
       "(32950, 30)"
      ]
     },
     "execution_count": 100,
     "metadata": {},
     "output_type": "execute_result"
    }
   ],
   "source": [
    "loans_paid_data.shape"
   ]
  },
  {
   "cell_type": "code",
   "execution_count": 103,
   "id": "8723cc7a-dfb9-492a-8461-a2ff3d8f3665",
   "metadata": {},
   "outputs": [
    {
     "data": {
      "text/plain": [
       "count     5627.000000\n",
       "mean     12104.385108\n",
       "std       8085.732038\n",
       "min        900.000000\n",
       "25%       5600.000000\n",
       "50%      10000.000000\n",
       "75%      16500.000000\n",
       "max      35000.000000\n",
       "Name: loan_amnt, dtype: float64"
      ]
     },
     "execution_count": 103,
     "metadata": {},
     "output_type": "execute_result"
    }
   ],
   "source": [
    "loans_defaulted_data['loan_amnt'].describe()"
   ]
  },
  {
   "cell_type": "code",
   "execution_count": 104,
   "id": "23eebd85-9a38-4388-a40a-fdf338bf5bc3",
   "metadata": {},
   "outputs": [
    {
     "data": {
      "text/plain": [
       "count    32950.000000\n",
       "mean     10866.455994\n",
       "std       7199.629493\n",
       "min        500.000000\n",
       "25%       5200.000000\n",
       "50%       9600.000000\n",
       "75%      15000.000000\n",
       "max      35000.000000\n",
       "Name: loan_amnt, dtype: float64"
      ]
     },
     "execution_count": 104,
     "metadata": {},
     "output_type": "execute_result"
    }
   ],
   "source": [
    "loans_paid_data['loan_amnt'].describe()"
   ]
  },
  {
   "cell_type": "code",
   "execution_count": 110,
   "id": "cc2e2027-bda8-4ab3-b2a8-bf593ed834c9",
   "metadata": {},
   "outputs": [
    {
     "data": {
      "text/plain": [
       "9"
      ]
     },
     "execution_count": 110,
     "metadata": {},
     "output_type": "execute_result"
    }
   ],
   "source": [
    "len(v_loan_data[v_loan_data['loan_amnt'] < 900])"
   ]
  },
  {
   "cell_type": "code",
   "execution_count": null,
   "id": "a171b66c-ad2c-4cfa-bbf5-12111f718c66",
   "metadata": {},
   "outputs": [],
   "source": [
    "#Observation: People who took lower amounts of loan paid the loan without fail. loan < 900\n",
    "# but the number of people taking loan below 900 is only 9 so cant draw any conclusion out of it."
   ]
  },
  {
   "cell_type": "code",
   "execution_count": null,
   "id": "269fba7f-e99c-471a-aa33-399b99bb86b3",
   "metadata": {},
   "outputs": [],
   "source": [
    "#Analysing data between defaulted and paid customers there is no significance of dti, annual_inc, loan_amnt, int_rate"
   ]
  },
  {
   "cell_type": "code",
   "execution_count": 123,
   "id": "d6d822b7-7843-4139-b125-9468b34e8462",
   "metadata": {},
   "outputs": [
    {
     "data": {
      "text/plain": [
       "delinq_2yrs\n",
       "0     29450\n",
       "1      2700\n",
       "2       543\n",
       "3       177\n",
       "4        47\n",
       "5        18\n",
       "6         9\n",
       "7         3\n",
       "8         1\n",
       "9         1\n",
       "11        1\n",
       "Name: count, dtype: int64"
      ]
     },
     "execution_count": 123,
     "metadata": {},
     "output_type": "execute_result"
    }
   ],
   "source": [
    "loans_paid_data['delinq_2yrs'].value_counts()"
   ]
  },
  {
   "cell_type": "code",
   "execution_count": 126,
   "id": "4e7f99f8-0c08-4331-8831-ee5703314ea6",
   "metadata": {},
   "outputs": [
    {
     "data": {
      "text/plain": [
       "term\n",
       " 36 months    3227\n",
       " 60 months    2400\n",
       "Name: count, dtype: int64"
      ]
     },
     "execution_count": 126,
     "metadata": {},
     "output_type": "execute_result"
    }
   ],
   "source": [
    "loans_defaulted_data['term'].value_counts()"
   ]
  },
  {
   "cell_type": "code",
   "execution_count": 127,
   "id": "78b85066-1e22-4751-ba5b-af6bd248f784",
   "metadata": {},
   "outputs": [
    {
     "data": {
      "text/plain": [
       "term\n",
       " 36 months    25869\n",
       " 60 months     7081\n",
       "Name: count, dtype: int64"
      ]
     },
     "execution_count": 127,
     "metadata": {},
     "output_type": "execute_result"
    }
   ],
   "source": [
    "loans_paid_data['term'].value_counts()"
   ]
  },
  {
   "cell_type": "code",
   "execution_count": 128,
   "id": "ef4f3e84-2fe5-46d2-8603-07b46e0e06ca",
   "metadata": {},
   "outputs": [
    {
     "data": {
      "text/plain": [
       "term\n",
       " 36 months    29096\n",
       " 60 months     9481\n",
       "Name: count, dtype: int64"
      ]
     },
     "execution_count": 128,
     "metadata": {},
     "output_type": "execute_result"
    }
   ],
   "source": [
    "v_loan_data['term'].value_counts()"
   ]
  },
  {
   "cell_type": "code",
   "execution_count": null,
   "id": "e2d6614b-96f5-499c-986f-439da0ecc226",
   "metadata": {},
   "outputs": [],
   "source": [
    "# People who opted for 5 year loan plan have aroud 25% defaulters compared to 10% defaulters for 3 year term loan"
   ]
  },
  {
   "cell_type": "code",
   "execution_count": 129,
   "id": "c9d84427-37c9-4479-8846-b2f2dfe10a14",
   "metadata": {},
   "outputs": [
    {
     "name": "stdout",
     "output_type": "stream",
     "text": [
      "<class 'pandas.core.frame.DataFrame'>\n",
      "Index: 38577 entries, 0 to 39716\n",
      "Data columns (total 30 columns):\n",
      " #   Column               Non-Null Count  Dtype  \n",
      "---  ------               --------------  -----  \n",
      " 0   loan_amnt            38577 non-null  int64  \n",
      " 1   funded_amnt          38577 non-null  int64  \n",
      " 2   funded_amnt_inv      38577 non-null  float64\n",
      " 3   term                 38577 non-null  object \n",
      " 4   int_rate             38577 non-null  object \n",
      " 5   installment          38577 non-null  float64\n",
      " 6   grade                38577 non-null  object \n",
      " 7   sub_grade            38577 non-null  object \n",
      " 8   home_ownership       38577 non-null  object \n",
      " 9   annual_inc           38577 non-null  float64\n",
      " 10  verification_status  38577 non-null  object \n",
      " 11  loan_status          38577 non-null  object \n",
      " 12  purpose              38577 non-null  object \n",
      " 13  addr_state           38577 non-null  object \n",
      " 14  dti                  38577 non-null  float64\n",
      " 15  delinq_2yrs          38577 non-null  int64  \n",
      " 16  earliest_cr_line     38577 non-null  object \n",
      " 17  open_acc             38577 non-null  int64  \n",
      " 18  revol_bal            38577 non-null  int64  \n",
      " 19  revol_util           38577 non-null  float64\n",
      " 20  total_acc            38577 non-null  int64  \n",
      " 21  out_prncp_inv        38577 non-null  float64\n",
      " 22  total_pymnt          38577 non-null  float64\n",
      " 23  total_pymnt_inv      38577 non-null  float64\n",
      " 24  total_rec_prncp      38577 non-null  float64\n",
      " 25  total_rec_int        38577 non-null  float64\n",
      " 26  total_rec_late_fee   38577 non-null  float64\n",
      " 27  last_pymnt_amnt      38577 non-null  float64\n",
      " 28  issued_month         38577 non-null  int32  \n",
      " 29  issued_year          38577 non-null  int32  \n",
      "dtypes: float64(12), int32(2), int64(6), object(10)\n",
      "memory usage: 8.8+ MB\n"
     ]
    }
   ],
   "source": [
    "v_loan_data.info()"
   ]
  },
  {
   "cell_type": "code",
   "execution_count": null,
   "id": "49d1db4d-5651-433a-b14d-366fad11dc4e",
   "metadata": {},
   "outputs": [],
   "source": []
  }
 ],
 "metadata": {
  "kernelspec": {
   "display_name": "Python 3 (ipykernel)",
   "language": "python",
   "name": "python3"
  },
  "language_info": {
   "codemirror_mode": {
    "name": "ipython",
    "version": 3
   },
   "file_extension": ".py",
   "mimetype": "text/x-python",
   "name": "python",
   "nbconvert_exporter": "python",
   "pygments_lexer": "ipython3",
   "version": "3.11.7"
  }
 },
 "nbformat": 4,
 "nbformat_minor": 5
}
